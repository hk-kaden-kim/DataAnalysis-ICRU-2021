{
 "cells": [
  {
   "cell_type": "code",
   "execution_count": 63,
   "metadata": {},
   "outputs": [],
   "source": [
    "import numpy as np"
   ]
  },
  {
   "cell_type": "code",
   "execution_count": 64,
   "metadata": {},
   "outputs": [],
   "source": [
    "R = [[9,15],[16,22],[23,26],[27,29],[30,32],[33,36]]\n",
    "E = [[9,14],[15,21],[22,28],[29,32],[33,34],[35,36]]\n",
    "A = [[9,11],[12,16],[17,21],[22,25],[26,30],[31,36]]\n",
    "D = [[9,13],[14,20],[21,27],[28,31],[32,33],[34,36]]"
   ]
  },
  {
   "cell_type": "code",
   "execution_count": 65,
   "metadata": {},
   "outputs": [
    {
     "name": "stdout",
     "output_type": "stream",
     "text": [
      "[[1, 1, 4, 6], [1, 1, 5, 4], [1, 1, 5, 6], [1, 2, 3, 5], [1, 2, 4, 5], [1, 3, 1, 6], [1, 3, 2, 4], [1, 3, 2, 6], [1, 3, 3, 3], [1, 3, 3, 4], [1, 3, 4, 3], [1, 4, 1, 5], [1, 4, 1, 6], [1, 4, 2, 3], [1, 4, 2, 4], [1, 4, 3, 3], [1, 4, 5, 1], [1, 5, 1, 4], [1, 5, 3, 2], [1, 5, 4, 2], [1, 6, 1, 5], [1, 6, 2, 3], [1, 6, 5, 1], [2, 1, 3, 5], [2, 1, 4, 5], [2, 2, 1, 6], [2, 2, 2, 4], [2, 2, 2, 6], [2, 2, 3, 3], [2, 2, 3, 4], [2, 2, 4, 3], [2, 3, 1, 5], [2, 3, 3, 2], [2, 3, 4, 2], [2, 4, 2, 2], [2, 4, 3, 2], [2, 5, 1, 3], [2, 5, 3, 1], [2, 5, 4, 1], [2, 6, 2, 2], [3, 1, 3, 5], [3, 1, 5, 2], [3, 2, 1, 5], [3, 2, 1, 6], [3, 2, 2, 3], [3, 2, 2, 4], [3, 2, 3, 3], [3, 2, 5, 1], [3, 3, 2, 2], [3, 3, 3, 2], [3, 4, 2, 2], [3, 5, 1, 2], [3, 5, 3, 1], [3, 6, 2, 1], [4, 1, 1, 6], [4, 1, 2, 4], [4, 1, 2, 6], [4, 1, 3, 3], [4, 1, 3, 4], [4, 1, 4, 3], [4, 2, 1, 5], [4, 2, 3, 2], [4, 2, 4, 2], [4, 3, 1, 3], [4, 3, 3, 1], [4, 3, 4, 1], [4, 4, 2, 1], [4, 4, 3, 1], [4, 5, 1, 2], [4, 6, 2, 1], [5, 1, 1, 5], [5, 1, 2, 5], [5, 1, 3, 3], [5, 1, 4, 2], [5, 1, 6, 1], [5, 2, 1, 3], [5, 2, 1, 4], [5, 2, 3, 2], [5, 2, 4, 1], [5, 3, 1, 2], [5, 3, 3, 1], [5, 4, 1, 2], [5, 5, 1, 1], [5, 5, 2, 1], [6, 1, 1, 5], [6, 1, 3, 2], [6, 1, 4, 2], [6, 2, 1, 3], [6, 2, 3, 1], [6, 2, 4, 1], [6, 3, 1, 2], [6, 5, 1, 1]]\n",
      "1296 92\n"
     ]
    }
   ],
   "source": [
    "i = 0\n",
    "j = 0\n",
    "result = []\n",
    "\n",
    "for r in range(len(R)):\n",
    "    for e in range(len(E)):\n",
    "        for a in range(len(A)):\n",
    "            for d in range(len(D)):\n",
    "                i += 1\n",
    "                min = R[r][0]+E[e][0]+A[a][0]+D[d][0]\n",
    "                max = R[r][1]+E[e][1]+A[a][1]+D[d][1]\n",
    "                if min<=90 & max>=90:\n",
    "                    result.append([r+1,e+1,a+1,d+1])\n",
    "                    j += 1\n",
    "\n",
    "print(result)\n",
    "print(i, j)\n",
    "\n",
    "footer = 'total: ' + str(j)\n",
    "np.savetxt('allCases.txt',result,'%d',\n",
    "            header='R E A D',footer=footer,comments='')\n"
   ]
  },
  {
   "cell_type": "code",
   "execution_count": null,
   "metadata": {},
   "outputs": [],
   "source": []
  },
  {
   "cell_type": "code",
   "execution_count": null,
   "metadata": {},
   "outputs": [],
   "source": []
  }
 ],
 "metadata": {
  "interpreter": {
   "hash": "aee8b7b246df8f9039afb4144a1f6fd8d2ca17a180786b69acc140d282b71a49"
  },
  "kernelspec": {
   "display_name": "Python 3.9.1 64-bit",
   "language": "python",
   "name": "python3"
  },
  "language_info": {
   "codemirror_mode": {
    "name": "ipython",
    "version": 3
   },
   "file_extension": ".py",
   "mimetype": "text/x-python",
   "name": "python",
   "nbconvert_exporter": "python",
   "pygments_lexer": "ipython3",
   "version": "3.9.1"
  },
  "orig_nbformat": 4
 },
 "nbformat": 4,
 "nbformat_minor": 2
}
